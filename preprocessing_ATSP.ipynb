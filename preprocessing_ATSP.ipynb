{
 "cells": [
  {
   "cell_type": "markdown",
   "metadata": {},
   "source": [
    "# Assymetric TSP\n",
    "\n",
    "## Introduction\n",
    "The asymmetric traveling salesman problem (ATSP) is a generalization of the symmetric traveling salesman problem (TSP) in which the cost of travel between two cities may differ in each direction. The ATSP is an NP-hard problem in combinatorial optimization, and it has many applications in logistics, transportation, and manufacturing. In this notebook, we will formulate the ATSP as an integer linear programming (ILP) problem and solve it using the Gurobi solver.\n",
    "\n",
    "## Problem Statement\n",
    "Given a set of cities and the cost of travel between each pair of cities, the goal of the ATSP is to find the shortest possible tour that visits each city exactly once and returns to the starting city. The cost of the tour is the sum of the costs of travel between consecutive cities in the tour.\n",
    "\n",
    "## MTZ Formulation\n",
    "The Miller-Tucker-Zemlin (MTZ) formulation is a popular ILP formulation for the ATSP. The MTZ formulation introduces a set of binary variables to represent the order in which cities are visited in the tour. Let $x_{ij}$ be a binary variable that is equal to 1 if city $i$ is visited before city $j$ in the tour, and 0 otherwise. The MTZ formulation consists of the following constraints:\n",
    "\n",
    "1. **Degree Constraints**: Each city should be visited exactly once in the tour.\n",
    "\\begin{equation}\n",
    "\\sum_{j \\neq i} x_{ij} = 1 \\quad \\forall i \\in \\text{Cities}\n",
    "\\end{equation}\n",
    "\n",
    "2. **Subtour Elimination Constraints**: These constraints ensure that the tour forms a single closed loop that visits all cities exactly once.\n",
    "\\begin{equation}\n",
    "u_i - u_j + n \\cdot x_{ij} \\leq n - 1 \\quad \\forall i \\neq 1, j \\neq 1, i \\neq j\n",
    "\\end{equation}\n",
    "\n",
    "3. **Ordering Constraints**: These constraints enforce the order in which cities are visited in the tour.\n",
    "\\begin{equation}\n",
    "2 \\leq u_i \\leq n \\quad \\forall i \\in \\text{Cities}\n",
    "\\end{equation}\n",
    "\n",
    "4. **Objective Function**: The objective is to minimize the total cost of the tour.\n",
    "\\begin{equation}\n",
    "\\text{Minimize} \\quad \\sum_{i \\in \\text{Cities}} \\sum_{j \\in \\text{Cities}} c_{ij} \\cdot x_{ij}\n",
    "\\end{equation}\n",
    "\n",
    "where $c_{ij}$ is the cost of travel between cities $i$ and $j$, and $u_i$ is a continuous variable that represents the position of city $i$ in the tour.\n",
    "\n"
   ]
  },
  {
   "cell_type": "code",
   "execution_count": 1,
   "metadata": {},
   "outputs": [],
   "source": [
    "import os\n",
    "import numpy as np\n",
    "import gurobipy as gp\n",
    "from gurobipy import GRB"
   ]
  },
  {
   "cell_type": "markdown",
   "metadata": {},
   "source": [
    "## Gurobi Implementation"
   ]
  },
  {
   "cell_type": "code",
   "execution_count": null,
   "metadata": {},
   "outputs": [],
   "source": [
    "def solve_tsp(n, c):\n",
    "    m = gp.Model(\"tsp\")\n",
    "    x = m.addVars(n, n, vtype=GRB.BINARY, name=\"x\")\n",
    "    u = m.addVars(n, vtype=GRB.CONTINUOUS, name=\"u\")\n",
    "    m.setObjective(gp.quicksum(c[i, j] * x[i, j] for i in range(n) for j in range(n)), GRB.MINIMIZE)\n",
    "    m.addConstrs((gp.quicksum(x[i, j] for j in range(n)) == 1 for i in range(n)), name=\"out\")\n",
    "    m.addConstrs((gp.quicksum(x[j, i] for j in range(n)) == 1 for i in range(n)), name=\"in\")\n",
    "    m.addConstrs((u[i] - u[j] + n * x[i, j] <= n - 1 for i in range(1, n) for j in range(1, n)), name=\"subtour\")\n",
    "    m.optimize()\n",
    "    if m.status == GRB.OPTIMAL:\n",
    "        return m.objVal, [i for i in range(n) if x[i, i].x > 0.5]\n",
    "    return None"
   ]
  },
  {
   "cell_type": "code",
   "execution_count": 43,
   "metadata": {},
   "outputs": [],
   "source": [
    "def read_atsp_file(file_path):\n",
    "    with open(file_path, 'r') as f:\n",
    "        lines = f.readlines()\n",
    "        n = int(lines[3].split()[1])\n",
    "        c = []\n",
    "        # convert the lines to a list of integers then to a numpy 2d array\n",
    "        for i in range(7, len(lines)-1):\n",
    "            temp = list(map(int, lines[i].split()))\n",
    "            # print(temp)\n",
    "            c.extend(temp)\n",
    "        c = np.array(c).reshape((n,n))\n",
    "        # print(c)\n",
    "    return n, c"
   ]
  },
  {
   "cell_type": "code",
   "execution_count": 44,
   "metadata": {},
   "outputs": [
    {
     "name": "stdout",
     "output_type": "stream",
     "text": [
      "br17.atsp\n",
      "\n",
      "ft53.atsp\n",
      "\n",
      "ft70.atsp\n",
      "\n",
      "ftv170.atsp\n",
      "\n",
      "ftv33.atsp\n",
      "\n",
      "ftv35.atsp\n",
      "\n",
      "ftv38.atsp\n",
      "\n",
      "ftv44.atsp\n",
      "\n",
      "ftv47.atsp\n",
      "\n",
      "ftv55.atsp\n",
      "\n",
      "ftv64.atsp\n",
      "\n",
      "ftv70.atsp\n",
      "\n",
      "kro124p.atsp\n",
      "\n",
      "p43.atsp\n",
      "\n",
      "rbg323.atsp\n",
      "\n",
      "rbg358.atsp\n",
      "\n",
      "rbg403.atsp\n",
      "\n",
      "rbg443.atsp\n",
      "\n",
      "ry48p.atsp\n",
      "\n"
     ]
    }
   ],
   "source": [
    "for root, dirs, files in os.walk(\"ATSP\"):\n",
    "        for file in files:\n",
    "                # print(f\"----------------{file}----------------\")\n",
    "                print(file)\n",
    "                n, c = read_atsp_file(os.path.join(root, file))\n",
    "                print()\n",
    "                # break"
   ]
  },
  {
   "cell_type": "code",
   "execution_count": null,
   "metadata": {},
   "outputs": [],
   "source": []
  }
 ],
 "metadata": {
  "kernelspec": {
   "display_name": "Python 3",
   "language": "python",
   "name": "python3"
  },
  "language_info": {
   "codemirror_mode": {
    "name": "ipython",
    "version": 3
   },
   "file_extension": ".py",
   "mimetype": "text/x-python",
   "name": "python",
   "nbconvert_exporter": "python",
   "pygments_lexer": "ipython3",
   "version": "3.11.1"
  }
 },
 "nbformat": 4,
 "nbformat_minor": 2
}
